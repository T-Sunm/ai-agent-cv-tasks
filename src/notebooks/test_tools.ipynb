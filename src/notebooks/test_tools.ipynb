{
 "cells": [
  {
   "cell_type": "code",
   "execution_count": 11,
   "id": "e42d52b0",
   "metadata": {},
   "outputs": [
    {
     "name": "stderr",
     "output_type": "stream",
     "text": [
      "Device set to use cpu\n"
     ]
    },
    {
     "name": "stdout",
     "output_type": "stream",
     "text": [
      "dog and cat\n"
     ]
    }
   ],
   "source": [
    "from transformers import pipeline\n",
    "from pathlib import Path\n",
    "\n",
    "# Đường dẫn tới thư mục snapshot (không phải file .bin)\n",
    "model_dir = r\"C:\\Users\\ASUS\\.cache\\huggingface\\hub\\models--Salesforce--blip-vqa-base\\snapshots\\787b3d35d57e49572baabd22884b3d5a05acf072\"\n",
    "\n",
    "vqa = pipeline(\n",
    "    \"visual-question-answering\",\n",
    "    model=model_dir,\n",
    "    tokenizer=model_dir,\n",
    "    feature_extractor=model_dir,\n",
    "    device=0  # GPU=0, CPU=-1\n",
    ")\n",
    "\n",
    "def identify_main_entity_vqa(image_path: str) -> str:\n",
    "    out = vqa(image=image_path,\n",
    "              question=\"What is the main object in the image?\")[0]\n",
    "    return out[\"answer\"]\n",
    "\n",
    "\n",
    "# Test\n",
    "print(identify_main_entity_vqa(\n",
    "    \"../../static/American-Staffordshire-Terrier-lying-outdoors-next-to-a-kitten-that-is-playing-with-the-dogs-nose.jpg\"\n",
    "))"
   ]
  },
  {
   "cell_type": "code",
   "execution_count": 8,
   "id": "b6ce3edf",
   "metadata": {},
   "outputs": [
    {
     "name": "stdout",
     "output_type": "stream",
     "text": [
      "Model weights path: C:\\Users\\ASUS\\.cache\\huggingface\\hub\\models--Salesforce--blip-vqa-base\\snapshots\\787b3d35d57e49572baabd22884b3d5a05acf072\\pytorch_model.bin\n"
     ]
    }
   ],
   "source": [
    "from huggingface_hub import hf_hub_download\n",
    "local_path = hf_hub_download(\n",
    "    repo_id=\"Salesforce/blip-vqa-base\",\n",
    "    filename=\"pytorch_model.bin\"\n",
    ")\n",
    "print(\"Model weights path:\", local_path)"
   ]
  }
 ],
 "metadata": {
  "kernelspec": {
   "display_name": "agent_cv",
   "language": "python",
   "name": "python3"
  },
  "language_info": {
   "codemirror_mode": {
    "name": "ipython",
    "version": 3
   },
   "file_extension": ".py",
   "mimetype": "text/x-python",
   "name": "python",
   "nbconvert_exporter": "python",
   "pygments_lexer": "ipython3",
   "version": "3.10.16"
  }
 },
 "nbformat": 4,
 "nbformat_minor": 5
}
